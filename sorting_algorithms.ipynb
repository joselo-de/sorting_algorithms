{
 "cells": [
  {
   "cell_type": "markdown",
   "metadata": {},
   "source": [
    "### Bucket sort\n",
    "\n",
    "Generate a random list of floating point numbers and sort them using a bucket sort algorithm\n",
    "The list of random numbers is taken from the continuos uniform distribution [0.0, 1)"
   ]
  },
  {
   "cell_type": "code",
   "execution_count": 20,
   "metadata": {},
   "outputs": [],
   "source": [
    "def bucket_sort(num_list):\n",
    "    ''' Defines bucket sorting algorithm. It takes the lenght of num_list to determine the \n",
    "        number of buckets created. \n",
    "    '''\n",
    "    new_list = []\n",
    "    bucket_slot = len(num_list)\n",
    "    for i in range(bucket_slot):\n",
    "        new_list.append([])\n",
    "\n",
    "    # separate elements and put them in corresponding bucket\n",
    "    for j in num_list:\n",
    "        index_b = int(bucket_slot * j)\n",
    "        new_list[index_b].append(j)\n",
    "\n",
    "    # use insert sorting inside every bucket\n",
    "    for i in range(bucket_slot):\n",
    "        new_list[i] = insertion_sort(new_list[i])\n",
    "\n",
    "    # concatenate the result \n",
    "    k = 0\n",
    "    for i in range(bucket_slot):\n",
    "        for j in range(len(new_list[i])):\n",
    "            num_list[k] = new_list[i][j]\n",
    "            k += 1\n",
    "    return num_list\n",
    "\n",
    "def insertion_sort(bucket):\n",
    "    ''' Defines insertion sorting algorithm. It is used to sort the elements inside\n",
    "        the individual buckets\n",
    "    '''\n",
    "    for elem in range(1, len(bucket)):\n",
    "        up = bucket[elem]\n",
    "        j = elem - 1\n",
    "        while j >= 0 and bucket[j] > up:\n",
    "            bucket[j + 1] = bucket[j]\n",
    "            j -= 1\n",
    "        bucket[j + 1] = up\n",
    "    return bucket"
   ]
  },
  {
   "cell_type": "code",
   "execution_count": 21,
   "metadata": {},
   "outputs": [
    {
     "name": "stdout",
     "output_type": "stream",
     "text": [
      "Original: [0.826, 0.385, 0.104, 0.201, 0.657, 0.892, 0.548, 0.508, 0.446, 0.687]\n",
      "Sorted  : [0.104, 0.201, 0.385, 0.446, 0.508, 0.548, 0.657, 0.687, 0.826, 0.892]\n"
     ]
    }
   ],
   "source": [
    "import numpy as np\n",
    "num_list = [round(np.random.random_sample(), 3) for i in range(10)]\n",
    "\n",
    "print('Original:', num_list)\n",
    "print('Sorted  :', bucket_sort(num_list))"
   ]
  },
  {
   "cell_type": "code",
   "execution_count": null,
   "metadata": {},
   "outputs": [],
   "source": []
  }
 ],
 "metadata": {
  "kernelspec": {
   "display_name": "Python 3",
   "language": "python",
   "name": "python3"
  },
  "language_info": {
   "codemirror_mode": {
    "name": "ipython",
    "version": 3
   },
   "file_extension": ".py",
   "mimetype": "text/x-python",
   "name": "python",
   "nbconvert_exporter": "python",
   "pygments_lexer": "ipython3",
   "version": "3.6.7"
  }
 },
 "nbformat": 4,
 "nbformat_minor": 2
}
