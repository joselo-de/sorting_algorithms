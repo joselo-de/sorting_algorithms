{
 "cells": [
  {
   "cell_type": "markdown",
   "metadata": {},
   "source": [
    "### Bubble sort\n",
    "\n",
    "Generate a random list of integers in the interval 1-1000 and sort them using a bubble sort algorithm"
   ]
  },
  {
   "cell_type": "code",
   "execution_count": 73,
   "metadata": {},
   "outputs": [
    {
     "name": "stdout",
     "output_type": "stream",
     "text": [
      "Original: [166, 23, 498, 170, 115, 627, 360, 93, 409, 682]\n",
      "Sorted  : [23, 93, 115, 166, 170, 360, 409, 498, 627, 682]\n"
     ]
    }
   ],
   "source": [
    "def bubble_sort(int_list):\n",
    "    n = len(int_list)\n",
    "    # if the element on the left is smaller swap it, otherwise keep iterating to the end of the list\n",
    "    for i in range(n):\n",
    "        for j in range(0, n-i-1):\n",
    "            if int_list[j] > int_list[j+1]:\n",
    "                int_list[j], int_list[j+1] = int_list[j+1], int_list[j]\n",
    "\n",
    "import numpy as np\n",
    "int_list = [np.random.randint(1, 1000) for _ in range(10)]\n",
    "print('Original:', int_list)\n",
    "bubble_sort(int_list)\n",
    "print('Sorted  :', int_list)"
   ]
  },
  {
   "cell_type": "markdown",
   "metadata": {},
   "source": [
    "### Bucket sort\n",
    "\n",
    "Generate a random list of floating point numbers and sort them using a bucket sort algorithm\n",
    "The list of random numbers is taken from the continuos uniform distribution [0.0, 1)"
   ]
  },
  {
   "cell_type": "code",
   "execution_count": 74,
   "metadata": {},
   "outputs": [
    {
     "name": "stdout",
     "output_type": "stream",
     "text": [
      "Original: [0.094, 0.746, 0.06, 0.786, 0.634, 0.812, 0.468, 0.384, 0.07, 0.24]\n",
      "Sorted  : [0.06, 0.07, 0.094, 0.24, 0.384, 0.468, 0.634, 0.746, 0.786, 0.812]\n"
     ]
    }
   ],
   "source": [
    "def bucket_sort(num_list):\n",
    "    ''' Defines bucket sorting algorithm. It takes the lenght of num_list to determine the \n",
    "        number of buckets created. \n",
    "    '''\n",
    "    new_list = []\n",
    "    bucket_slot = len(num_list)\n",
    "    for i in range(bucket_slot):\n",
    "        new_list.append([])\n",
    "\n",
    "    # separate elements and put them in corresponding bucket\n",
    "    for j in num_list:\n",
    "        index_b = int(bucket_slot * j)\n",
    "        new_list[index_b].append(j)\n",
    "\n",
    "    # use insert sorting inside every bucket\n",
    "    for i in range(bucket_slot):\n",
    "        new_list[i] = insertion_sort(new_list[i])\n",
    "\n",
    "    # concatenate the result \n",
    "    k = 0\n",
    "    for i in range(bucket_slot):\n",
    "        for j in range(len(new_list[i])):\n",
    "            num_list[k] = new_list[i][j]\n",
    "            k += 1\n",
    "    return num_list\n",
    "\n",
    "def insertion_sort(bucket):\n",
    "    ''' Defines insertion sorting algorithm. It is used to sort the elements inside\n",
    "        the individual buckets\n",
    "    '''\n",
    "    for elem in range(1, len(bucket)):\n",
    "        up = bucket[elem]\n",
    "        j = elem - 1\n",
    "        while j >= 0 and bucket[j] > up:\n",
    "            bucket[j + 1] = bucket[j]\n",
    "            j -= 1\n",
    "        bucket[j + 1] = up\n",
    "    return bucket\n",
    "\n",
    "import numpy as np\n",
    "num_list = [round(np.random.random_sample(), 3) for _ in range(10)]\n",
    "\n",
    "print('Original:', num_list)\n",
    "print('Sorted  :', bucket_sort(num_list))"
   ]
  },
  {
   "cell_type": "code",
   "execution_count": null,
   "metadata": {},
   "outputs": [],
   "source": []
  }
 ],
 "metadata": {
  "kernelspec": {
   "display_name": "Python 3",
   "language": "python",
   "name": "python3"
  },
  "language_info": {
   "codemirror_mode": {
    "name": "ipython",
    "version": 3
   },
   "file_extension": ".py",
   "mimetype": "text/x-python",
   "name": "python",
   "nbconvert_exporter": "python",
   "pygments_lexer": "ipython3",
   "version": "3.6.7"
  }
 },
 "nbformat": 4,
 "nbformat_minor": 2
}
