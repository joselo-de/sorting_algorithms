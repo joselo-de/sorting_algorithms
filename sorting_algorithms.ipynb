{
 "cells": [
  {
   "cell_type": "markdown",
   "metadata": {},
   "source": [
    "### Bubble sort\n",
    "\n",
    "Generate a random list of integers in the interval 1-1000 and sort them using a bubble sort algorithm. Bubble sort is the simplest of the sorting algorithms, it takes pairs of numbers and swaps them when the element on the left is bigger than the element on the right. If no swap was performend, the algorith moves to the next pair and compares again, swaping elements until it reaches the end of the numbers in the list."
   ]
  },
  {
   "cell_type": "code",
   "execution_count": 29,
   "metadata": {},
   "outputs": [
    {
     "name": "stdout",
     "output_type": "stream",
     "text": [
      "Original list: [772, 774, 517, 896, 409, 162, 191, 3, 630, 992]\n",
      "Bubble sorted: [3, 162, 191, 409, 517, 630, 772, 774, 896, 992]\n"
     ]
    }
   ],
   "source": [
    "def bubble_sort(num_list):\n",
    "    n = len(num_list)\n",
    "    # if the element on the left is smaller swap it, otherwise keep iterating to the end of the list\n",
    "    for i in range(n):\n",
    "        for j in range(0, n-i-1):\n",
    "            if num_list[j] > num_list[j+1]:\n",
    "                num_list[j], num_list[j+1] = num_list[j+1], num_list[j]\n",
    "    return num_list\n",
    "\n",
    "\n",
    "import numpy as np\n",
    "int_list = [np.random.randint(1, 1000) for _ in range(10)]\n",
    "print('Original list:', int_list)\n",
    "bubble_sort(int_list)\n",
    "print('Bubble sorted:', int_list)"
   ]
  },
  {
   "cell_type": "markdown",
   "metadata": {},
   "source": [
    "### Selection sort\n",
    "\n",
    "Generate a random list of integers in the interval 1-1000 and sort them using the selection sort algorithm. This algorithm finds the smallest element in a list and puts it at the begining of the list, subsequently dividing the list in two: sorted elements at the front and unsorted elements at the end. The iteration continues until the smallest element on the unsorted list is actually the biggest element of the whole list."
   ]
  },
  {
   "cell_type": "code",
   "execution_count": 36,
   "metadata": {},
   "outputs": [
    {
     "name": "stdout",
     "output_type": "stream",
     "text": [
      "Original list   : [444, 355, 139, 18, 483, 912, 763, 520, 423, 873]\n",
      "Selection sorted: [18, 139, 355, 423, 444, 483, 520, 763, 873, 912]\n"
     ]
    }
   ],
   "source": [
    "def selection_sort(num_list):\n",
    "    for i in range(len(num_list)): \n",
    "        min_idx = i \n",
    "        for j in range(i+1, len(num_list)): # Find the smallest element and swap it to the \"sorted list\"\n",
    "            if num_list[min_idx] > num_list[j]: \n",
    "                min_idx = j \n",
    "        num_list[i], num_list[min_idx] = num_list[min_idx], num_list[i]\n",
    "    return num_list\n",
    "\n",
    "\n",
    "int_list = [np.random.randint(1, 1000) for _ in range(10)]\n",
    "print('Original list   :', int_list)\n",
    "print('Selection sorted:', selection_sort(int_list))"
   ]
  },
  {
   "cell_type": "markdown",
   "metadata": {},
   "source": [
    "### Merge sort\n",
    "\n",
    "The merge sort algorithms uses recursion to divide the list of given numbers in two (left, right) then each half is again divided again in two halves and so on until the remaining list contains one element. At that moment, the algorith merges back a sorted list"
   ]
  },
  {
   "cell_type": "code",
   "execution_count": 34,
   "metadata": {},
   "outputs": [
    {
     "name": "stdout",
     "output_type": "stream",
     "text": [
      "Original list: [399, 280, 475, 927, 855, 935, 611, 319, 656, 623]\n",
      "Merge Sorted : [280, 319, 399, 475, 611, 623, 656, 855, 927, 935]\n"
     ]
    }
   ],
   "source": [
    "def merge_sort(num_list):\n",
    "    if len(num_list) > 1:\n",
    "        mid = len(num_list)//2 # find the center and take left and right halves\n",
    "        left = num_list[:mid]\n",
    "        right = num_list[mid:]\n",
    "  \n",
    "        merge_sort(left) # recursively divide left half\n",
    "        merge_sort(right) # same for right half\n",
    "\n",
    "        i = j = k = 0 # everytime list is divided reset counters\n",
    "        while i < len(left) and j < len(right):\n",
    "            if left[i] < right[j]:\n",
    "                num_list[k] = left[i]\n",
    "                i += 1\n",
    "            else:\n",
    "                num_list[k] = right[j]\n",
    "                j += 1\n",
    "            k += 1\n",
    "        while i < len(left):\n",
    "            num_list[k] = left[i]\n",
    "            i += 1\n",
    "            k += 1\n",
    "        while j < len(right):\n",
    "            num_list[k] = right[j]\n",
    "            j += 1\n",
    "            k += 1\n",
    "\n",
    "\n",
    "int_list = [np.random.randint(1, 1000) for _ in range(10)]\n",
    "print('Original list:', int_list)\n",
    "merge_sort(int_list)\n",
    "print('Merge Sorted :', int_list)"
   ]
  },
  {
   "cell_type": "markdown",
   "metadata": {},
   "source": [
    "### Bucket sort\n",
    "\n",
    "Generate a random list of floating point numbers and sort them using a bucket sort algorithm\n",
    "The list of random numbers is taken from the continuos uniform distribution [0.0, 1)"
   ]
  },
  {
   "cell_type": "code",
   "execution_count": 35,
   "metadata": {},
   "outputs": [
    {
     "name": "stdout",
     "output_type": "stream",
     "text": [
      "Original list: [0.157, 0.775, 0.833, 0.234, 0.001, 0.401, 0.683, 0.893, 0.552, 0.736]\n",
      "Bucket Sorted: [0.001, 0.157, 0.234, 0.401, 0.552, 0.683, 0.736, 0.775, 0.833, 0.893]\n"
     ]
    }
   ],
   "source": [
    "def bucket_sort(num_list):\n",
    "    ''' Defines bucket sorting algorithm. It takes the lenght of num_list to determine the \n",
    "        number of buckets created. \n",
    "    '''\n",
    "    new_list = []\n",
    "    bucket_slot = len(num_list)\n",
    "    for i in range(bucket_slot):\n",
    "        new_list.append([])\n",
    "\n",
    "    # separate elements and put them in corresponding bucket\n",
    "    for j in num_list:\n",
    "        index_b = int(bucket_slot * j)\n",
    "        new_list[index_b].append(j)\n",
    "\n",
    "    # use insert sorting inside every bucket\n",
    "    for i in range(bucket_slot):\n",
    "        new_list[i] = insertion_sort(new_list[i])\n",
    "\n",
    "    # concatenate the result \n",
    "    k = 0\n",
    "    for i in range(bucket_slot):\n",
    "        for j in range(len(new_list[i])):\n",
    "            num_list[k] = new_list[i][j]\n",
    "            k += 1\n",
    "    return num_list\n",
    "\n",
    "def insertion_sort(bucket):\n",
    "    ''' Defines insertion sorting algorithm. It is used to sort the elements inside\n",
    "        the individual buckets\n",
    "    '''\n",
    "    for elem in range(1, len(bucket)):\n",
    "        up = bucket[elem]\n",
    "        j = elem - 1\n",
    "        while j >= 0 and bucket[j] > up:\n",
    "            bucket[j + 1] = bucket[j]\n",
    "            j -= 1\n",
    "        bucket[j + 1] = up\n",
    "    return bucket\n",
    "\n",
    "\n",
    "float_list = [round(np.random.random_sample(), 3) for _ in range(10)]\n",
    "print('Original list:', float_list)\n",
    "print('Bucket Sorted:', bucket_sort(float_list))"
   ]
  },
  {
   "cell_type": "code",
   "execution_count": null,
   "metadata": {},
   "outputs": [],
   "source": []
  }
 ],
 "metadata": {
  "kernelspec": {
   "display_name": "Python 3",
   "language": "python",
   "name": "python3"
  },
  "language_info": {
   "codemirror_mode": {
    "name": "ipython",
    "version": 3
   },
   "file_extension": ".py",
   "mimetype": "text/x-python",
   "name": "python",
   "nbconvert_exporter": "python",
   "pygments_lexer": "ipython3",
   "version": "3.6.7"
  }
 },
 "nbformat": 4,
 "nbformat_minor": 2
}
